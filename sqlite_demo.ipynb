{
 "cells": [
  {
   "cell_type": "markdown",
   "metadata": {},
   "source": [
    "# SQLite3 Connection"
   ]
  },
  {
   "cell_type": "code",
   "execution_count": 2,
   "metadata": {},
   "outputs": [],
   "source": [
    "import sqlite3\n",
    "con = sqlite3.connect('CSCI4333.db')\n",
    "cur = con.cursor()\n"
   ]
  },
  {
   "cell_type": "markdown",
   "metadata": {},
   "source": [
    "# Create Sailor Table"
   ]
  },
  {
   "cell_type": "code",
   "execution_count": 3,
   "metadata": {},
   "outputs": [
    {
     "data": {
      "text/plain": [
       "<sqlite3.Cursor at 0x7fdb9813ea40>"
      ]
     },
     "execution_count": 3,
     "metadata": {},
     "output_type": "execute_result"
    }
   ],
   "source": [
    "statement = '''\n",
    "            CREATE TABLE Sailor (\n",
    "                          sid text, \n",
    "                          sname text, \n",
    "                          gender text, \n",
    "                          primary key (sid)\n",
    "                          );\n",
    "            '''\n",
    "cur.execute(statement)\n",
    "\n",
    "cur.execute(\"INSERT INTO Sailor VALUES ('101','A','M')\")\n",
    "cur.execute(\"INSERT INTO Sailor VALUES ('102','B','M')\")"
   ]
  },
  {
   "cell_type": "markdown",
   "metadata": {},
   "source": [
    "# How to Check Result"
   ]
  },
  {
   "cell_type": "code",
   "execution_count": 4,
   "metadata": {},
   "outputs": [
    {
     "name": "stdout",
     "output_type": "stream",
     "text": [
      "--------------------\n",
      "['sid', 'sname', 'gender']\n",
      "--------------------\n",
      "('101', 'A', 'M')\n",
      "('102', 'B', 'M')\n"
     ]
    }
   ],
   "source": [
    "statement = '''\n",
    "            SELECT * FROM Sailor\n",
    "            '''\n",
    "\n",
    "res = cur.execute(statement)\n",
    "\n",
    "print('--------------------')\n",
    "n = [x[0] for x in res.description]\n",
    "print(n)\n",
    "print('--------------------')\n",
    "for row in res : print(row)\n"
   ]
  },
  {
   "cell_type": "markdown",
   "metadata": {},
   "source": [
    "# Create Boat Table"
   ]
  },
  {
   "cell_type": "code",
   "execution_count": 5,
   "metadata": {},
   "outputs": [
    {
     "data": {
      "text/plain": [
       "<sqlite3.Cursor at 0x7fdb9813ea40>"
      ]
     },
     "execution_count": 5,
     "metadata": {},
     "output_type": "execute_result"
    }
   ],
   "source": [
    "statement = '''CREATE TABLE Boat (\n",
    "                    bid text, \n",
    "                    bname text, \n",
    "                    color text, \n",
    "                    primary key (bid)\n",
    "                    );\n",
    "            '''\n",
    "cur.execute(statement)\n",
    "\n",
    "cur.execute(\"INSERT INTO Boat VALUES ('201','A','red')\")\n"
   ]
  },
  {
   "cell_type": "markdown",
   "metadata": {},
   "source": [
    "# Create Reserve Table"
   ]
  },
  {
   "cell_type": "code",
   "execution_count": 6,
   "metadata": {},
   "outputs": [],
   "source": [
    "statement='''CREATE TABLE Reserve (\n",
    "              sid text, \n",
    "              bid text, \n",
    "              primary key (sid,bid), \n",
    "              FOREIGN KEY(sid) REFERENCES Sailor(sid), \n",
    "              FOREIGN KEY(bid) REFERENCES Boat(bid));\n",
    "          '''\n",
    "\n",
    "cur.execute(statement)\n",
    "cur.execute(\"INSERT INTO Reserve VALUES ('101','202')\")\n",
    "\n",
    "con.commit()\n",
    "\n"
   ]
  },
  {
   "cell_type": "code",
   "execution_count": 7,
   "metadata": {},
   "outputs": [
    {
     "data": {
      "text/plain": [
       "<sqlite3.Cursor at 0x7fdb9813ea40>"
      ]
     },
     "execution_count": 7,
     "metadata": {},
     "output_type": "execute_result"
    }
   ],
   "source": [
    "cur.execute(\"INSERT INTO Reserve VALUES ('106','203')\")"
   ]
  },
  {
   "cell_type": "code",
   "execution_count": 8,
   "metadata": {},
   "outputs": [
    {
     "name": "stdout",
     "output_type": "stream",
     "text": [
      "--------------------\n",
      "['sid', 'bid']\n",
      "--------------------\n",
      "('101', '202')\n",
      "('106', '203')\n"
     ]
    }
   ],
   "source": [
    "statement = '''\n",
    "            SELECT * FROM Reserve\n",
    "            '''\n",
    "\n",
    "res = cur.execute(statement)\n",
    "\n",
    "print('--------------------')\n",
    "n = [x[0] for x in res.description]\n",
    "print(n)\n",
    "print('--------------------')\n",
    "for row in res : print(row)\n"
   ]
  },
  {
   "cell_type": "code",
   "execution_count": null,
   "metadata": {},
   "outputs": [],
   "source": []
  }
 ],
 "metadata": {
  "kernelspec": {
   "display_name": "Python 3.10.8 64-bit",
   "language": "python",
   "name": "python3"
  },
  "language_info": {
   "codemirror_mode": {
    "name": "ipython",
    "version": 3
   },
   "file_extension": ".py",
   "mimetype": "text/x-python",
   "name": "python",
   "nbconvert_exporter": "python",
   "pygments_lexer": "ipython3",
   "version": "3.10.8"
  },
  "vscode": {
   "interpreter": {
    "hash": "369f2c481f4da34e4445cda3fffd2e751bd1c4d706f27375911949ba6bb62e1c"
   }
  }
 },
 "nbformat": 4,
 "nbformat_minor": 4
}
